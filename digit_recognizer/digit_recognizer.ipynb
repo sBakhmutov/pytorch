{
 "cells": [
  {
   "cell_type": "code",
   "execution_count": 133,
   "id": "d6b23e78",
   "metadata": {},
   "outputs": [],
   "source": [
    "import torch\n",
    "import matplotlib.pyplot as plt\n",
    "\n",
    "from tqdm import tqdm\n",
    "from torchvision import datasets\n",
    "from torchvision.transforms import ToTensor"
   ]
  },
  {
   "cell_type": "code",
   "execution_count": 134,
   "id": "78a1842a",
   "metadata": {},
   "outputs": [],
   "source": [
    "train_data = datasets.MNIST(\n",
    "    root = 'data',\n",
    "    train = True,\n",
    "    transform=ToTensor(),\n",
    "    download=False\n",
    ")\n",
    "\n",
    "train_data = datasets.MNIST(\n",
    "    root = 'data',\n",
    "    train = True,\n",
    "    transform=ToTensor(),\n",
    "    download=False\n",
    ")"
   ]
  },
  {
   "cell_type": "code",
   "execution_count": 135,
   "id": "21c26b86",
   "metadata": {},
   "outputs": [
    {
     "data": {
      "text/plain": [
       "torchvision.datasets.mnist.MNIST"
      ]
     },
     "execution_count": 135,
     "metadata": {},
     "output_type": "execute_result"
    }
   ],
   "source": [
    "type(train_data)"
   ]
  },
  {
   "cell_type": "code",
   "execution_count": 136,
   "id": "e038a85b",
   "metadata": {},
   "outputs": [
    {
     "data": {
      "text/plain": [
       "torch.Size([60000, 28, 28])"
      ]
     },
     "execution_count": 136,
     "metadata": {},
     "output_type": "execute_result"
    }
   ],
   "source": [
    "train_data.data.shape"
   ]
  },
  {
   "cell_type": "code",
   "execution_count": 137,
   "id": "dfd032b8",
   "metadata": {},
   "outputs": [
    {
     "data": {
      "text/plain": [
       "torch.Size([10000, 28, 28])"
      ]
     },
     "execution_count": 137,
     "metadata": {},
     "output_type": "execute_result"
    }
   ],
   "source": [
    "test_data.data.shape"
   ]
  },
  {
   "cell_type": "code",
   "execution_count": 138,
   "id": "eaa2106d",
   "metadata": {},
   "outputs": [
    {
     "data": {
      "text/plain": [
       "tensor([5, 0, 4,  ..., 5, 6, 8])"
      ]
     },
     "execution_count": 138,
     "metadata": {},
     "output_type": "execute_result"
    }
   ],
   "source": [
    "train_data.targets"
   ]
  },
  {
   "cell_type": "code",
   "execution_count": 139,
   "id": "193d0209",
   "metadata": {},
   "outputs": [],
   "source": [
    "from torch.utils.data import DataLoader\n",
    "\n",
    "loaders = {\n",
    "    \n",
    "    'train': DataLoader(train_data, \n",
    "                        batch_size=64, \n",
    "                        shuffle=True, \n",
    "                        num_workers=1),\n",
    "    \n",
    "    'test': DataLoader(test_data, \n",
    "                       batch_size=64, \n",
    "                       shuffle=True, \n",
    "                       num_workers=1)\n",
    "}"
   ]
  },
  {
   "cell_type": "code",
   "execution_count": 140,
   "id": "5ad58f69",
   "metadata": {},
   "outputs": [
    {
     "data": {
      "text/plain": [
       "{'train': <torch.utils.data.dataloader.DataLoader at 0x1a1c090ed90>,\n",
       " 'test': <torch.utils.data.dataloader.DataLoader at 0x1a1c0880810>}"
      ]
     },
     "execution_count": 140,
     "metadata": {},
     "output_type": "execute_result"
    }
   ],
   "source": [
    "loaders"
   ]
  },
  {
   "cell_type": "code",
   "execution_count": 141,
   "id": "5e682da4",
   "metadata": {},
   "outputs": [],
   "source": [
    "import torch.nn as nn\n",
    "import torch.nn.functional as F\n",
    "import torch.optim as optim\n",
    "\n",
    "\n",
    "class CNN(nn.Module):\n",
    "    \n",
    "    def __init__(self):\n",
    "        super(CNN, self).__init__()\n",
    "        \n",
    "        self.conv1 = nn.Conv2d(1, 10, kernel_size=5)\n",
    "        self.conv2 = nn.Conv2d(10, 20, kernel_size=5)\n",
    "        self.conv2_drop = nn.Dropout2d()\n",
    "        self.fc1 = nn.Linear(320, 50)\n",
    "        self.fc2 = nn.Linear(50, 10)\n",
    "        \n",
    "    def forward(self, x):\n",
    "        x = F.relu(F.max_pool2d(self.conv1(x), 2))\n",
    "        x = F.relu(F.max_pool2d(self.conv2_drop(self.conv2(x)), 2))\n",
    "        x = x.view(-1, 320)\n",
    "        x = F.relu(self.fc1(x))\n",
    "        x = F.dropout(x, training=self.training)\n",
    "        x = self.fc2(x)\n",
    "        \n",
    "        return F.softmax(x)"
   ]
  },
  {
   "cell_type": "code",
   "execution_count": 142,
   "id": "25a13ec7",
   "metadata": {},
   "outputs": [],
   "source": [
    "device = torch.device(\"cuda\" if torch.cuda.is_available() else \"cpu\")\n",
    "\n",
    "model = CNN().to(device)\n",
    "\n",
    "optimizer = optim.Adam(model.parameters(), lr=0.001)\n",
    "\n",
    "loss_fn = nn.CrossEntropyLoss()\n",
    "\n",
    "def train(epoch):\n",
    "    model.train()\n",
    "    for batch_inx, (data, target) in enumerate(loaders['train']):\n",
    "        data, target = data.to(device), target.to(device)\n",
    "        optimizer.zero_grad()\n",
    "        output = model(data)\n",
    "        loss = loss_fn(output, target)\n",
    "        loss.backward()\n",
    "        optimizer.step()\n",
    "        if batch_inx % 20 == 0:\n",
    "            print(f'Train Epoch: {epoch} [{batch_inx * len(data)}/{len(loaders[\"train\"].dataset)} ({100. * batch_inx / len(loaders[\"train\"]):.0f}%)]\\t{loss.item():.6f}')\n",
    "            \n",
    "def test():\n",
    "    model.eval()\n",
    "    \n",
    "    test_loss = 0\n",
    "    correct = 0\n",
    "    \n",
    "    with torch.no_grad():\n",
    "        for data, target in loaders['test']:\n",
    "            data, target = data.to(device), target.to(device)\n",
    "            output = model(data)\n",
    "            test_loss += loss_fn(output, target).item()\n",
    "            pred = output.argmax(dim=1, keepdim=True)\n",
    "            correct += pred.eq(target.view_as(pred)).sum().item()\n",
    "    \n",
    "    test_loss /= len(loaders['test'].dataset)\n",
    "    print(f'\\nTest set: Average loss: {test_loss:.4f}, Accuracy {correct}/{len(loaders[\"test\"].dataset)} ({100. * correct / len(loaders[\"test\"].dataset):.0f}%)\\n')\n",
    "    \n",
    "        "
   ]
  },
  {
   "cell_type": "code",
   "execution_count": 143,
   "id": "a69fd73f",
   "metadata": {},
   "outputs": [
    {
     "name": "stderr",
     "output_type": "stream",
     "text": [
      "  0%|                                                                                           | 0/10 [00:00<?, ?it/s]C:\\Users\\Stepan\\AppData\\Local\\Temp\\ipykernel_12680\\3577856844.py:25: UserWarning: Implicit dimension choice for softmax has been deprecated. Change the call to include dim=X as an argument.\n",
      "  return F.softmax(x)\n"
     ]
    },
    {
     "name": "stdout",
     "output_type": "stream",
     "text": [
      "Train Epoch: 1 [0/60000 (0%)]\t2.303942\n",
      "Train Epoch: 1 [1280/60000 (2%)]\t2.298735\n",
      "Train Epoch: 1 [2560/60000 (4%)]\t2.233627\n",
      "Train Epoch: 1 [3840/60000 (6%)]\t2.083380\n",
      "Train Epoch: 1 [5120/60000 (9%)]\t1.872555\n",
      "Train Epoch: 1 [6400/60000 (11%)]\t1.942014\n",
      "Train Epoch: 1 [7680/60000 (13%)]\t1.805330\n",
      "Train Epoch: 1 [8960/60000 (15%)]\t1.728158\n",
      "Train Epoch: 1 [10240/60000 (17%)]\t1.770471\n",
      "Train Epoch: 1 [11520/60000 (19%)]\t1.659407\n",
      "Train Epoch: 1 [12800/60000 (21%)]\t1.655198\n",
      "Train Epoch: 1 [14080/60000 (23%)]\t1.701814\n",
      "Train Epoch: 1 [15360/60000 (26%)]\t1.790240\n",
      "Train Epoch: 1 [16640/60000 (28%)]\t1.776806\n",
      "Train Epoch: 1 [17920/60000 (30%)]\t1.676797\n",
      "Train Epoch: 1 [19200/60000 (32%)]\t1.648208\n",
      "Train Epoch: 1 [20480/60000 (34%)]\t1.690937\n",
      "Train Epoch: 1 [21760/60000 (36%)]\t1.733795\n",
      "Train Epoch: 1 [23040/60000 (38%)]\t1.822145\n",
      "Train Epoch: 1 [24320/60000 (41%)]\t1.612004\n",
      "Train Epoch: 1 [25600/60000 (43%)]\t1.615328\n",
      "Train Epoch: 1 [26880/60000 (45%)]\t1.650576\n",
      "Train Epoch: 1 [28160/60000 (47%)]\t1.626910\n",
      "Train Epoch: 1 [29440/60000 (49%)]\t1.619305\n",
      "Train Epoch: 1 [30720/60000 (51%)]\t1.662017\n",
      "Train Epoch: 1 [32000/60000 (53%)]\t1.677003\n",
      "Train Epoch: 1 [33280/60000 (55%)]\t1.637851\n",
      "Train Epoch: 1 [34560/60000 (58%)]\t1.638222\n",
      "Train Epoch: 1 [35840/60000 (60%)]\t1.649907\n",
      "Train Epoch: 1 [37120/60000 (62%)]\t1.613200\n",
      "Train Epoch: 1 [38400/60000 (64%)]\t1.664348\n",
      "Train Epoch: 1 [39680/60000 (66%)]\t1.606292\n",
      "Train Epoch: 1 [40960/60000 (68%)]\t1.608652\n",
      "Train Epoch: 1 [42240/60000 (70%)]\t1.578844\n",
      "Train Epoch: 1 [43520/60000 (72%)]\t1.560667\n",
      "Train Epoch: 1 [44800/60000 (75%)]\t1.593110\n",
      "Train Epoch: 1 [46080/60000 (77%)]\t1.538932\n",
      "Train Epoch: 1 [47360/60000 (79%)]\t1.675624\n",
      "Train Epoch: 1 [48640/60000 (81%)]\t1.616689\n",
      "Train Epoch: 1 [49920/60000 (83%)]\t1.559937\n",
      "Train Epoch: 1 [51200/60000 (85%)]\t1.624275\n",
      "Train Epoch: 1 [52480/60000 (87%)]\t1.644892\n",
      "Train Epoch: 1 [53760/60000 (90%)]\t1.528473\n",
      "Train Epoch: 1 [55040/60000 (92%)]\t1.648238\n",
      "Train Epoch: 1 [56320/60000 (94%)]\t1.604438\n",
      "Train Epoch: 1 [57600/60000 (96%)]\t1.589895\n",
      "Train Epoch: 1 [58880/60000 (98%)]\t1.585492\n"
     ]
    },
    {
     "name": "stderr",
     "output_type": "stream",
     "text": [
      "\r",
      " 10%|████████▎                                                                          | 1/10 [00:11<01:42, 11.37s/it]"
     ]
    },
    {
     "name": "stdout",
     "output_type": "stream",
     "text": [
      "\n",
      "Test set: Average loss: 0.0240, Accuracy 9354/10000 (94%)\n",
      "\n",
      "Train Epoch: 2 [0/60000 (0%)]\t1.672798\n",
      "Train Epoch: 2 [1280/60000 (2%)]\t1.571594\n",
      "Train Epoch: 2 [2560/60000 (4%)]\t1.675455\n",
      "Train Epoch: 2 [3840/60000 (6%)]\t1.641491\n",
      "Train Epoch: 2 [5120/60000 (9%)]\t1.618023\n",
      "Train Epoch: 2 [6400/60000 (11%)]\t1.660507\n",
      "Train Epoch: 2 [7680/60000 (13%)]\t1.632256\n",
      "Train Epoch: 2 [8960/60000 (15%)]\t1.580621\n",
      "Train Epoch: 2 [10240/60000 (17%)]\t1.565180\n",
      "Train Epoch: 2 [11520/60000 (19%)]\t1.602217\n",
      "Train Epoch: 2 [12800/60000 (21%)]\t1.578446\n",
      "Train Epoch: 2 [14080/60000 (23%)]\t1.601257\n",
      "Train Epoch: 2 [15360/60000 (26%)]\t1.606237\n",
      "Train Epoch: 2 [16640/60000 (28%)]\t1.595900\n",
      "Train Epoch: 2 [17920/60000 (30%)]\t1.612998\n",
      "Train Epoch: 2 [19200/60000 (32%)]\t1.621710\n",
      "Train Epoch: 2 [20480/60000 (34%)]\t1.622534\n",
      "Train Epoch: 2 [21760/60000 (36%)]\t1.590150\n",
      "Train Epoch: 2 [23040/60000 (38%)]\t1.632145\n",
      "Train Epoch: 2 [24320/60000 (41%)]\t1.618531\n",
      "Train Epoch: 2 [25600/60000 (43%)]\t1.597469\n",
      "Train Epoch: 2 [26880/60000 (45%)]\t1.531719\n",
      "Train Epoch: 2 [28160/60000 (47%)]\t1.622109\n",
      "Train Epoch: 2 [29440/60000 (49%)]\t1.564886\n",
      "Train Epoch: 2 [30720/60000 (51%)]\t1.569071\n",
      "Train Epoch: 2 [32000/60000 (53%)]\t1.624142\n",
      "Train Epoch: 2 [33280/60000 (55%)]\t1.583463\n",
      "Train Epoch: 2 [34560/60000 (58%)]\t1.588000\n",
      "Train Epoch: 2 [35840/60000 (60%)]\t1.625026\n",
      "Train Epoch: 2 [37120/60000 (62%)]\t1.614492\n",
      "Train Epoch: 2 [38400/60000 (64%)]\t1.551908\n",
      "Train Epoch: 2 [39680/60000 (66%)]\t1.510359\n",
      "Train Epoch: 2 [40960/60000 (68%)]\t1.535657\n",
      "Train Epoch: 2 [42240/60000 (70%)]\t1.547163\n",
      "Train Epoch: 2 [43520/60000 (72%)]\t1.613842\n",
      "Train Epoch: 2 [44800/60000 (75%)]\t1.530902\n",
      "Train Epoch: 2 [46080/60000 (77%)]\t1.557641\n",
      "Train Epoch: 2 [47360/60000 (79%)]\t1.598164\n",
      "Train Epoch: 2 [48640/60000 (81%)]\t1.523042\n",
      "Train Epoch: 2 [49920/60000 (83%)]\t1.548364\n",
      "Train Epoch: 2 [51200/60000 (85%)]\t1.547487\n",
      "Train Epoch: 2 [52480/60000 (87%)]\t1.607938\n",
      "Train Epoch: 2 [53760/60000 (90%)]\t1.630213\n",
      "Train Epoch: 2 [55040/60000 (92%)]\t1.559109\n",
      "Train Epoch: 2 [56320/60000 (94%)]\t1.542874\n",
      "Train Epoch: 2 [57600/60000 (96%)]\t1.570109\n",
      "Train Epoch: 2 [58880/60000 (98%)]\t1.533251\n"
     ]
    },
    {
     "name": "stderr",
     "output_type": "stream",
     "text": [
      "\r",
      " 20%|████████████████▌                                                                  | 2/10 [00:22<01:31, 11.40s/it]"
     ]
    },
    {
     "name": "stdout",
     "output_type": "stream",
     "text": [
      "\n",
      "Test set: Average loss: 0.0237, Accuracy 9499/10000 (95%)\n",
      "\n",
      "Train Epoch: 3 [0/60000 (0%)]\t1.649640\n",
      "Train Epoch: 3 [1280/60000 (2%)]\t1.606552\n",
      "Train Epoch: 3 [2560/60000 (4%)]\t1.584279\n",
      "Train Epoch: 3 [3840/60000 (6%)]\t1.571469\n",
      "Train Epoch: 3 [5120/60000 (9%)]\t1.657687\n",
      "Train Epoch: 3 [6400/60000 (11%)]\t1.539779\n",
      "Train Epoch: 3 [7680/60000 (13%)]\t1.662980\n",
      "Train Epoch: 3 [8960/60000 (15%)]\t1.580496\n",
      "Train Epoch: 3 [10240/60000 (17%)]\t1.561368\n",
      "Train Epoch: 3 [11520/60000 (19%)]\t1.530715\n",
      "Train Epoch: 3 [12800/60000 (21%)]\t1.506328\n",
      "Train Epoch: 3 [14080/60000 (23%)]\t1.614850\n",
      "Train Epoch: 3 [15360/60000 (26%)]\t1.533400\n",
      "Train Epoch: 3 [16640/60000 (28%)]\t1.530374\n",
      "Train Epoch: 3 [17920/60000 (30%)]\t1.525795\n",
      "Train Epoch: 3 [19200/60000 (32%)]\t1.544827\n",
      "Train Epoch: 3 [20480/60000 (34%)]\t1.597408\n",
      "Train Epoch: 3 [21760/60000 (36%)]\t1.566250\n",
      "Train Epoch: 3 [23040/60000 (38%)]\t1.527315\n",
      "Train Epoch: 3 [24320/60000 (41%)]\t1.538024\n",
      "Train Epoch: 3 [25600/60000 (43%)]\t1.532245\n",
      "Train Epoch: 3 [26880/60000 (45%)]\t1.542464\n",
      "Train Epoch: 3 [28160/60000 (47%)]\t1.598537\n",
      "Train Epoch: 3 [29440/60000 (49%)]\t1.620931\n",
      "Train Epoch: 3 [30720/60000 (51%)]\t1.590642\n",
      "Train Epoch: 3 [32000/60000 (53%)]\t1.510959\n",
      "Train Epoch: 3 [33280/60000 (55%)]\t1.555124\n",
      "Train Epoch: 3 [34560/60000 (58%)]\t1.562248\n",
      "Train Epoch: 3 [35840/60000 (60%)]\t1.579040\n",
      "Train Epoch: 3 [37120/60000 (62%)]\t1.520405\n",
      "Train Epoch: 3 [38400/60000 (64%)]\t1.596013\n",
      "Train Epoch: 3 [39680/60000 (66%)]\t1.519010\n",
      "Train Epoch: 3 [40960/60000 (68%)]\t1.588084\n",
      "Train Epoch: 3 [42240/60000 (70%)]\t1.568033\n",
      "Train Epoch: 3 [43520/60000 (72%)]\t1.590823\n",
      "Train Epoch: 3 [44800/60000 (75%)]\t1.571952\n",
      "Train Epoch: 3 [46080/60000 (77%)]\t1.511664\n",
      "Train Epoch: 3 [47360/60000 (79%)]\t1.518325\n",
      "Train Epoch: 3 [48640/60000 (81%)]\t1.555907\n",
      "Train Epoch: 3 [49920/60000 (83%)]\t1.541034\n",
      "Train Epoch: 3 [51200/60000 (85%)]\t1.523456\n",
      "Train Epoch: 3 [52480/60000 (87%)]\t1.471234\n",
      "Train Epoch: 3 [53760/60000 (90%)]\t1.492727\n",
      "Train Epoch: 3 [55040/60000 (92%)]\t1.491236\n",
      "Train Epoch: 3 [56320/60000 (94%)]\t1.561269\n",
      "Train Epoch: 3 [57600/60000 (96%)]\t1.591280\n",
      "Train Epoch: 3 [58880/60000 (98%)]\t1.592571\n"
     ]
    },
    {
     "name": "stderr",
     "output_type": "stream",
     "text": [
      "\r",
      " 30%|████████████████████████▉                                                          | 3/10 [00:34<01:20, 11.52s/it]"
     ]
    },
    {
     "name": "stdout",
     "output_type": "stream",
     "text": [
      "\n",
      "Test set: Average loss: 0.0236, Accuracy 9561/10000 (96%)\n",
      "\n",
      "Train Epoch: 4 [0/60000 (0%)]\t1.540378\n",
      "Train Epoch: 4 [1280/60000 (2%)]\t1.605538\n",
      "Train Epoch: 4 [2560/60000 (4%)]\t1.537484\n",
      "Train Epoch: 4 [3840/60000 (6%)]\t1.641250\n",
      "Train Epoch: 4 [5120/60000 (9%)]\t1.547334\n",
      "Train Epoch: 4 [6400/60000 (11%)]\t1.542631\n",
      "Train Epoch: 4 [7680/60000 (13%)]\t1.555878\n",
      "Train Epoch: 4 [8960/60000 (15%)]\t1.526408\n",
      "Train Epoch: 4 [10240/60000 (17%)]\t1.522174\n",
      "Train Epoch: 4 [11520/60000 (19%)]\t1.508000\n",
      "Train Epoch: 4 [12800/60000 (21%)]\t1.580384\n",
      "Train Epoch: 4 [14080/60000 (23%)]\t1.625147\n",
      "Train Epoch: 4 [15360/60000 (26%)]\t1.550778\n",
      "Train Epoch: 4 [16640/60000 (28%)]\t1.537930\n",
      "Train Epoch: 4 [17920/60000 (30%)]\t1.507899\n",
      "Train Epoch: 4 [19200/60000 (32%)]\t1.571976\n",
      "Train Epoch: 4 [20480/60000 (34%)]\t1.523017\n",
      "Train Epoch: 4 [21760/60000 (36%)]\t1.495080\n",
      "Train Epoch: 4 [23040/60000 (38%)]\t1.570826\n",
      "Train Epoch: 4 [24320/60000 (41%)]\t1.620514\n",
      "Train Epoch: 4 [25600/60000 (43%)]\t1.554574\n",
      "Train Epoch: 4 [26880/60000 (45%)]\t1.557635\n",
      "Train Epoch: 4 [28160/60000 (47%)]\t1.568584\n",
      "Train Epoch: 4 [29440/60000 (49%)]\t1.573755\n",
      "Train Epoch: 4 [30720/60000 (51%)]\t1.520628\n",
      "Train Epoch: 4 [32000/60000 (53%)]\t1.506840\n",
      "Train Epoch: 4 [33280/60000 (55%)]\t1.574845\n",
      "Train Epoch: 4 [34560/60000 (58%)]\t1.564711\n",
      "Train Epoch: 4 [35840/60000 (60%)]\t1.539557\n",
      "Train Epoch: 4 [37120/60000 (62%)]\t1.539781\n",
      "Train Epoch: 4 [38400/60000 (64%)]\t1.540344\n",
      "Train Epoch: 4 [39680/60000 (66%)]\t1.613850\n",
      "Train Epoch: 4 [40960/60000 (68%)]\t1.526186\n",
      "Train Epoch: 4 [42240/60000 (70%)]\t1.591178\n",
      "Train Epoch: 4 [43520/60000 (72%)]\t1.496583\n",
      "Train Epoch: 4 [44800/60000 (75%)]\t1.560327\n",
      "Train Epoch: 4 [46080/60000 (77%)]\t1.521702\n",
      "Train Epoch: 4 [47360/60000 (79%)]\t1.590939\n",
      "Train Epoch: 4 [48640/60000 (81%)]\t1.477205\n",
      "Train Epoch: 4 [49920/60000 (83%)]\t1.577372\n",
      "Train Epoch: 4 [51200/60000 (85%)]\t1.563035\n",
      "Train Epoch: 4 [52480/60000 (87%)]\t1.481594\n",
      "Train Epoch: 4 [53760/60000 (90%)]\t1.533768\n",
      "Train Epoch: 4 [55040/60000 (92%)]\t1.564111\n",
      "Train Epoch: 4 [56320/60000 (94%)]\t1.527768\n",
      "Train Epoch: 4 [57600/60000 (96%)]\t1.526127\n",
      "Train Epoch: 4 [58880/60000 (98%)]\t1.529031\n"
     ]
    },
    {
     "name": "stderr",
     "output_type": "stream",
     "text": [
      "\r",
      " 40%|█████████████████████████████████▏                                                 | 4/10 [00:46<01:09, 11.57s/it]"
     ]
    },
    {
     "name": "stdout",
     "output_type": "stream",
     "text": [
      "\n",
      "Test set: Average loss: 0.0235, Accuracy 9626/10000 (96%)\n",
      "\n",
      "Train Epoch: 5 [0/60000 (0%)]\t1.543742\n",
      "Train Epoch: 5 [1280/60000 (2%)]\t1.513836\n",
      "Train Epoch: 5 [2560/60000 (4%)]\t1.515207\n",
      "Train Epoch: 5 [3840/60000 (6%)]\t1.529292\n",
      "Train Epoch: 5 [5120/60000 (9%)]\t1.559328\n",
      "Train Epoch: 5 [6400/60000 (11%)]\t1.572274\n",
      "Train Epoch: 5 [7680/60000 (13%)]\t1.526994\n",
      "Train Epoch: 5 [8960/60000 (15%)]\t1.500329\n",
      "Train Epoch: 5 [10240/60000 (17%)]\t1.516742\n",
      "Train Epoch: 5 [11520/60000 (19%)]\t1.546535\n",
      "Train Epoch: 5 [12800/60000 (21%)]\t1.547122\n",
      "Train Epoch: 5 [14080/60000 (23%)]\t1.522507\n",
      "Train Epoch: 5 [15360/60000 (26%)]\t1.518642\n",
      "Train Epoch: 5 [16640/60000 (28%)]\t1.540160\n",
      "Train Epoch: 5 [17920/60000 (30%)]\t1.573519\n",
      "Train Epoch: 5 [19200/60000 (32%)]\t1.530619\n",
      "Train Epoch: 5 [20480/60000 (34%)]\t1.588840\n",
      "Train Epoch: 5 [21760/60000 (36%)]\t1.598776\n",
      "Train Epoch: 5 [23040/60000 (38%)]\t1.566721\n",
      "Train Epoch: 5 [24320/60000 (41%)]\t1.553008\n",
      "Train Epoch: 5 [25600/60000 (43%)]\t1.548534\n",
      "Train Epoch: 5 [26880/60000 (45%)]\t1.559630\n",
      "Train Epoch: 5 [28160/60000 (47%)]\t1.564655\n",
      "Train Epoch: 5 [29440/60000 (49%)]\t1.551417\n",
      "Train Epoch: 5 [30720/60000 (51%)]\t1.516836\n",
      "Train Epoch: 5 [32000/60000 (53%)]\t1.590236\n",
      "Train Epoch: 5 [33280/60000 (55%)]\t1.543189\n",
      "Train Epoch: 5 [34560/60000 (58%)]\t1.521356\n",
      "Train Epoch: 5 [35840/60000 (60%)]\t1.545401\n",
      "Train Epoch: 5 [37120/60000 (62%)]\t1.566405\n",
      "Train Epoch: 5 [38400/60000 (64%)]\t1.522611\n",
      "Train Epoch: 5 [39680/60000 (66%)]\t1.581668\n",
      "Train Epoch: 5 [40960/60000 (68%)]\t1.532761\n",
      "Train Epoch: 5 [42240/60000 (70%)]\t1.526985\n",
      "Train Epoch: 5 [43520/60000 (72%)]\t1.519245\n",
      "Train Epoch: 5 [44800/60000 (75%)]\t1.569249\n",
      "Train Epoch: 5 [46080/60000 (77%)]\t1.560503\n",
      "Train Epoch: 5 [47360/60000 (79%)]\t1.536222\n",
      "Train Epoch: 5 [48640/60000 (81%)]\t1.556562\n",
      "Train Epoch: 5 [49920/60000 (83%)]\t1.550166\n",
      "Train Epoch: 5 [51200/60000 (85%)]\t1.574995\n",
      "Train Epoch: 5 [52480/60000 (87%)]\t1.525662\n",
      "Train Epoch: 5 [53760/60000 (90%)]\t1.477492\n",
      "Train Epoch: 5 [55040/60000 (92%)]\t1.555702\n",
      "Train Epoch: 5 [56320/60000 (94%)]\t1.566064\n",
      "Train Epoch: 5 [57600/60000 (96%)]\t1.522566\n",
      "Train Epoch: 5 [58880/60000 (98%)]\t1.552850\n"
     ]
    },
    {
     "name": "stderr",
     "output_type": "stream",
     "text": [
      "\r",
      " 50%|█████████████████████████████████████████▌                                         | 5/10 [00:57<00:58, 11.67s/it]"
     ]
    },
    {
     "name": "stdout",
     "output_type": "stream",
     "text": [
      "\n",
      "Test set: Average loss: 0.0235, Accuracy 9674/10000 (97%)\n",
      "\n",
      "Train Epoch: 6 [0/60000 (0%)]\t1.585848\n",
      "Train Epoch: 6 [1280/60000 (2%)]\t1.542219\n",
      "Train Epoch: 6 [2560/60000 (4%)]\t1.488479\n",
      "Train Epoch: 6 [3840/60000 (6%)]\t1.562305\n",
      "Train Epoch: 6 [5120/60000 (9%)]\t1.569104\n",
      "Train Epoch: 6 [6400/60000 (11%)]\t1.544394\n",
      "Train Epoch: 6 [7680/60000 (13%)]\t1.484249\n",
      "Train Epoch: 6 [8960/60000 (15%)]\t1.545651\n",
      "Train Epoch: 6 [10240/60000 (17%)]\t1.525929\n",
      "Train Epoch: 6 [11520/60000 (19%)]\t1.494399\n",
      "Train Epoch: 6 [12800/60000 (21%)]\t1.579284\n",
      "Train Epoch: 6 [14080/60000 (23%)]\t1.584783\n",
      "Train Epoch: 6 [15360/60000 (26%)]\t1.541160\n",
      "Train Epoch: 6 [16640/60000 (28%)]\t1.544684\n",
      "Train Epoch: 6 [17920/60000 (30%)]\t1.513523\n",
      "Train Epoch: 6 [19200/60000 (32%)]\t1.477258\n",
      "Train Epoch: 6 [20480/60000 (34%)]\t1.596517\n",
      "Train Epoch: 6 [21760/60000 (36%)]\t1.534298\n",
      "Train Epoch: 6 [23040/60000 (38%)]\t1.605464\n",
      "Train Epoch: 6 [24320/60000 (41%)]\t1.558412\n",
      "Train Epoch: 6 [25600/60000 (43%)]\t1.521818\n",
      "Train Epoch: 6 [26880/60000 (45%)]\t1.498914\n",
      "Train Epoch: 6 [28160/60000 (47%)]\t1.542936\n",
      "Train Epoch: 6 [29440/60000 (49%)]\t1.613567\n",
      "Train Epoch: 6 [30720/60000 (51%)]\t1.499228\n",
      "Train Epoch: 6 [32000/60000 (53%)]\t1.471670\n",
      "Train Epoch: 6 [33280/60000 (55%)]\t1.529835\n",
      "Train Epoch: 6 [34560/60000 (58%)]\t1.555339\n",
      "Train Epoch: 6 [35840/60000 (60%)]\t1.514613\n",
      "Train Epoch: 6 [37120/60000 (62%)]\t1.571256\n",
      "Train Epoch: 6 [38400/60000 (64%)]\t1.527678\n",
      "Train Epoch: 6 [39680/60000 (66%)]\t1.549594\n",
      "Train Epoch: 6 [40960/60000 (68%)]\t1.582404\n",
      "Train Epoch: 6 [42240/60000 (70%)]\t1.532306\n",
      "Train Epoch: 6 [43520/60000 (72%)]\t1.535248\n",
      "Train Epoch: 6 [44800/60000 (75%)]\t1.471081\n",
      "Train Epoch: 6 [46080/60000 (77%)]\t1.553049\n",
      "Train Epoch: 6 [47360/60000 (79%)]\t1.544088\n",
      "Train Epoch: 6 [48640/60000 (81%)]\t1.554577\n",
      "Train Epoch: 6 [49920/60000 (83%)]\t1.556184\n",
      "Train Epoch: 6 [51200/60000 (85%)]\t1.516960\n",
      "Train Epoch: 6 [52480/60000 (87%)]\t1.578388\n",
      "Train Epoch: 6 [53760/60000 (90%)]\t1.492008\n",
      "Train Epoch: 6 [55040/60000 (92%)]\t1.532594\n",
      "Train Epoch: 6 [56320/60000 (94%)]\t1.552188\n",
      "Train Epoch: 6 [57600/60000 (96%)]\t1.522831\n",
      "Train Epoch: 6 [58880/60000 (98%)]\t1.523944\n"
     ]
    },
    {
     "name": "stderr",
     "output_type": "stream",
     "text": [
      "\r",
      " 60%|█████████████████████████████████████████████████▊                                 | 6/10 [01:09<00:47, 11.78s/it]"
     ]
    },
    {
     "name": "stdout",
     "output_type": "stream",
     "text": [
      "\n",
      "Test set: Average loss: 0.0235, Accuracy 9666/10000 (97%)\n",
      "\n",
      "Train Epoch: 7 [0/60000 (0%)]\t1.579224\n",
      "Train Epoch: 7 [1280/60000 (2%)]\t1.568027\n",
      "Train Epoch: 7 [2560/60000 (4%)]\t1.526117\n",
      "Train Epoch: 7 [3840/60000 (6%)]\t1.516035\n",
      "Train Epoch: 7 [5120/60000 (9%)]\t1.510271\n",
      "Train Epoch: 7 [6400/60000 (11%)]\t1.497651\n",
      "Train Epoch: 7 [7680/60000 (13%)]\t1.478838\n",
      "Train Epoch: 7 [8960/60000 (15%)]\t1.525220\n",
      "Train Epoch: 7 [10240/60000 (17%)]\t1.545123\n",
      "Train Epoch: 7 [11520/60000 (19%)]\t1.493659\n",
      "Train Epoch: 7 [12800/60000 (21%)]\t1.549420\n",
      "Train Epoch: 7 [14080/60000 (23%)]\t1.561071\n",
      "Train Epoch: 7 [15360/60000 (26%)]\t1.506989\n",
      "Train Epoch: 7 [16640/60000 (28%)]\t1.549305\n",
      "Train Epoch: 7 [17920/60000 (30%)]\t1.552818\n",
      "Train Epoch: 7 [19200/60000 (32%)]\t1.521793\n",
      "Train Epoch: 7 [20480/60000 (34%)]\t1.507555\n",
      "Train Epoch: 7 [21760/60000 (36%)]\t1.494675\n",
      "Train Epoch: 7 [23040/60000 (38%)]\t1.496088\n",
      "Train Epoch: 7 [24320/60000 (41%)]\t1.535065\n",
      "Train Epoch: 7 [25600/60000 (43%)]\t1.538229\n",
      "Train Epoch: 7 [26880/60000 (45%)]\t1.532754\n",
      "Train Epoch: 7 [28160/60000 (47%)]\t1.540474\n",
      "Train Epoch: 7 [29440/60000 (49%)]\t1.529563\n",
      "Train Epoch: 7 [30720/60000 (51%)]\t1.530618\n",
      "Train Epoch: 7 [32000/60000 (53%)]\t1.518789\n",
      "Train Epoch: 7 [33280/60000 (55%)]\t1.522272\n",
      "Train Epoch: 7 [34560/60000 (58%)]\t1.552678\n",
      "Train Epoch: 7 [35840/60000 (60%)]\t1.524542\n",
      "Train Epoch: 7 [37120/60000 (62%)]\t1.576310\n",
      "Train Epoch: 7 [38400/60000 (64%)]\t1.508820\n",
      "Train Epoch: 7 [39680/60000 (66%)]\t1.519701\n",
      "Train Epoch: 7 [40960/60000 (68%)]\t1.564390\n",
      "Train Epoch: 7 [42240/60000 (70%)]\t1.533407\n",
      "Train Epoch: 7 [43520/60000 (72%)]\t1.514040\n",
      "Train Epoch: 7 [44800/60000 (75%)]\t1.549418\n",
      "Train Epoch: 7 [46080/60000 (77%)]\t1.536894\n",
      "Train Epoch: 7 [47360/60000 (79%)]\t1.509740\n",
      "Train Epoch: 7 [48640/60000 (81%)]\t1.527075\n",
      "Train Epoch: 7 [49920/60000 (83%)]\t1.498793\n",
      "Train Epoch: 7 [51200/60000 (85%)]\t1.632112\n",
      "Train Epoch: 7 [52480/60000 (87%)]\t1.495189\n",
      "Train Epoch: 7 [53760/60000 (90%)]\t1.479805\n",
      "Train Epoch: 7 [55040/60000 (92%)]\t1.569422\n",
      "Train Epoch: 7 [56320/60000 (94%)]\t1.511724\n",
      "Train Epoch: 7 [57600/60000 (96%)]\t1.554074\n",
      "Train Epoch: 7 [58880/60000 (98%)]\t1.553378\n"
     ]
    },
    {
     "name": "stderr",
     "output_type": "stream",
     "text": [
      "\r",
      " 70%|██████████████████████████████████████████████████████████                         | 7/10 [01:21<00:35, 11.70s/it]"
     ]
    },
    {
     "name": "stdout",
     "output_type": "stream",
     "text": [
      "\n",
      "Test set: Average loss: 0.0234, Accuracy 9710/10000 (97%)\n",
      "\n",
      "Train Epoch: 8 [0/60000 (0%)]\t1.551824\n",
      "Train Epoch: 8 [1280/60000 (2%)]\t1.489707\n",
      "Train Epoch: 8 [2560/60000 (4%)]\t1.544455\n",
      "Train Epoch: 8 [3840/60000 (6%)]\t1.510564\n",
      "Train Epoch: 8 [5120/60000 (9%)]\t1.539298\n",
      "Train Epoch: 8 [6400/60000 (11%)]\t1.486353\n",
      "Train Epoch: 8 [7680/60000 (13%)]\t1.545785\n",
      "Train Epoch: 8 [8960/60000 (15%)]\t1.510339\n",
      "Train Epoch: 8 [10240/60000 (17%)]\t1.516969\n",
      "Train Epoch: 8 [11520/60000 (19%)]\t1.478125\n",
      "Train Epoch: 8 [12800/60000 (21%)]\t1.595611\n",
      "Train Epoch: 8 [14080/60000 (23%)]\t1.535004\n",
      "Train Epoch: 8 [15360/60000 (26%)]\t1.560577\n",
      "Train Epoch: 8 [16640/60000 (28%)]\t1.508769\n",
      "Train Epoch: 8 [17920/60000 (30%)]\t1.571199\n",
      "Train Epoch: 8 [19200/60000 (32%)]\t1.607273\n",
      "Train Epoch: 8 [20480/60000 (34%)]\t1.502938\n",
      "Train Epoch: 8 [21760/60000 (36%)]\t1.517553\n",
      "Train Epoch: 8 [23040/60000 (38%)]\t1.597540\n",
      "Train Epoch: 8 [24320/60000 (41%)]\t1.538061\n",
      "Train Epoch: 8 [25600/60000 (43%)]\t1.582832\n",
      "Train Epoch: 8 [26880/60000 (45%)]\t1.591816\n",
      "Train Epoch: 8 [28160/60000 (47%)]\t1.541086\n",
      "Train Epoch: 8 [29440/60000 (49%)]\t1.497677\n",
      "Train Epoch: 8 [30720/60000 (51%)]\t1.587267\n",
      "Train Epoch: 8 [32000/60000 (53%)]\t1.539163\n",
      "Train Epoch: 8 [33280/60000 (55%)]\t1.603992\n",
      "Train Epoch: 8 [34560/60000 (58%)]\t1.517860\n",
      "Train Epoch: 8 [35840/60000 (60%)]\t1.545424\n",
      "Train Epoch: 8 [37120/60000 (62%)]\t1.486099\n",
      "Train Epoch: 8 [38400/60000 (64%)]\t1.547011\n",
      "Train Epoch: 8 [39680/60000 (66%)]\t1.508315\n",
      "Train Epoch: 8 [40960/60000 (68%)]\t1.491266\n",
      "Train Epoch: 8 [42240/60000 (70%)]\t1.522960\n",
      "Train Epoch: 8 [43520/60000 (72%)]\t1.544438\n",
      "Train Epoch: 8 [44800/60000 (75%)]\t1.529034\n",
      "Train Epoch: 8 [46080/60000 (77%)]\t1.532239\n",
      "Train Epoch: 8 [47360/60000 (79%)]\t1.482864\n",
      "Train Epoch: 8 [48640/60000 (81%)]\t1.561735\n",
      "Train Epoch: 8 [49920/60000 (83%)]\t1.530837\n",
      "Train Epoch: 8 [51200/60000 (85%)]\t1.536261\n",
      "Train Epoch: 8 [52480/60000 (87%)]\t1.556266\n",
      "Train Epoch: 8 [53760/60000 (90%)]\t1.551214\n",
      "Train Epoch: 8 [55040/60000 (92%)]\t1.509602\n",
      "Train Epoch: 8 [56320/60000 (94%)]\t1.525906\n",
      "Train Epoch: 8 [57600/60000 (96%)]\t1.536104\n",
      "Train Epoch: 8 [58880/60000 (98%)]\t1.550640\n"
     ]
    },
    {
     "name": "stderr",
     "output_type": "stream",
     "text": [
      "\r",
      " 80%|██████████████████████████████████████████████████████████████████▍                | 8/10 [01:33<00:23, 11.74s/it]"
     ]
    },
    {
     "name": "stdout",
     "output_type": "stream",
     "text": [
      "\n",
      "Test set: Average loss: 0.0234, Accuracy 9734/10000 (97%)\n",
      "\n",
      "Train Epoch: 9 [0/60000 (0%)]\t1.564430\n",
      "Train Epoch: 9 [1280/60000 (2%)]\t1.524496\n",
      "Train Epoch: 9 [2560/60000 (4%)]\t1.556342\n",
      "Train Epoch: 9 [3840/60000 (6%)]\t1.517770\n",
      "Train Epoch: 9 [5120/60000 (9%)]\t1.486652\n",
      "Train Epoch: 9 [6400/60000 (11%)]\t1.530646\n",
      "Train Epoch: 9 [7680/60000 (13%)]\t1.517375\n",
      "Train Epoch: 9 [8960/60000 (15%)]\t1.506211\n",
      "Train Epoch: 9 [10240/60000 (17%)]\t1.557037\n",
      "Train Epoch: 9 [11520/60000 (19%)]\t1.493624\n",
      "Train Epoch: 9 [12800/60000 (21%)]\t1.542131\n",
      "Train Epoch: 9 [14080/60000 (23%)]\t1.524093\n",
      "Train Epoch: 9 [15360/60000 (26%)]\t1.508085\n",
      "Train Epoch: 9 [16640/60000 (28%)]\t1.576309\n",
      "Train Epoch: 9 [17920/60000 (30%)]\t1.549892\n",
      "Train Epoch: 9 [19200/60000 (32%)]\t1.495516\n",
      "Train Epoch: 9 [20480/60000 (34%)]\t1.511778\n",
      "Train Epoch: 9 [21760/60000 (36%)]\t1.564602\n",
      "Train Epoch: 9 [23040/60000 (38%)]\t1.484360\n",
      "Train Epoch: 9 [24320/60000 (41%)]\t1.602854\n",
      "Train Epoch: 9 [25600/60000 (43%)]\t1.478404\n",
      "Train Epoch: 9 [26880/60000 (45%)]\t1.545838\n",
      "Train Epoch: 9 [28160/60000 (47%)]\t1.510139\n",
      "Train Epoch: 9 [29440/60000 (49%)]\t1.482269\n",
      "Train Epoch: 9 [30720/60000 (51%)]\t1.557511\n",
      "Train Epoch: 9 [32000/60000 (53%)]\t1.541668\n",
      "Train Epoch: 9 [33280/60000 (55%)]\t1.531581\n",
      "Train Epoch: 9 [34560/60000 (58%)]\t1.523109\n",
      "Train Epoch: 9 [35840/60000 (60%)]\t1.528690\n",
      "Train Epoch: 9 [37120/60000 (62%)]\t1.552813\n",
      "Train Epoch: 9 [38400/60000 (64%)]\t1.563196\n",
      "Train Epoch: 9 [39680/60000 (66%)]\t1.594187\n",
      "Train Epoch: 9 [40960/60000 (68%)]\t1.559386\n",
      "Train Epoch: 9 [42240/60000 (70%)]\t1.478693\n",
      "Train Epoch: 9 [43520/60000 (72%)]\t1.488856\n",
      "Train Epoch: 9 [44800/60000 (75%)]\t1.543638\n",
      "Train Epoch: 9 [46080/60000 (77%)]\t1.517879\n",
      "Train Epoch: 9 [47360/60000 (79%)]\t1.533283\n",
      "Train Epoch: 9 [48640/60000 (81%)]\t1.530688\n",
      "Train Epoch: 9 [49920/60000 (83%)]\t1.520983\n",
      "Train Epoch: 9 [51200/60000 (85%)]\t1.494118\n",
      "Train Epoch: 9 [52480/60000 (87%)]\t1.515437\n",
      "Train Epoch: 9 [53760/60000 (90%)]\t1.533096\n",
      "Train Epoch: 9 [55040/60000 (92%)]\t1.602629\n",
      "Train Epoch: 9 [56320/60000 (94%)]\t1.523253\n",
      "Train Epoch: 9 [57600/60000 (96%)]\t1.533774\n",
      "Train Epoch: 9 [58880/60000 (98%)]\t1.539050\n"
     ]
    },
    {
     "name": "stderr",
     "output_type": "stream",
     "text": [
      "\r",
      " 90%|██████████████████████████████████████████████████████████████████████████▋        | 9/10 [01:44<00:11, 11.71s/it]"
     ]
    },
    {
     "name": "stdout",
     "output_type": "stream",
     "text": [
      "\n",
      "Test set: Average loss: 0.0234, Accuracy 9721/10000 (97%)\n",
      "\n",
      "Train Epoch: 10 [0/60000 (0%)]\t1.544639\n",
      "Train Epoch: 10 [1280/60000 (2%)]\t1.528710\n",
      "Train Epoch: 10 [2560/60000 (4%)]\t1.529637\n",
      "Train Epoch: 10 [3840/60000 (6%)]\t1.516713\n",
      "Train Epoch: 10 [5120/60000 (9%)]\t1.524585\n",
      "Train Epoch: 10 [6400/60000 (11%)]\t1.499704\n",
      "Train Epoch: 10 [7680/60000 (13%)]\t1.526732\n",
      "Train Epoch: 10 [8960/60000 (15%)]\t1.493801\n",
      "Train Epoch: 10 [10240/60000 (17%)]\t1.512568\n",
      "Train Epoch: 10 [11520/60000 (19%)]\t1.489039\n",
      "Train Epoch: 10 [12800/60000 (21%)]\t1.598248\n",
      "Train Epoch: 10 [14080/60000 (23%)]\t1.554094\n",
      "Train Epoch: 10 [15360/60000 (26%)]\t1.529904\n",
      "Train Epoch: 10 [16640/60000 (28%)]\t1.523878\n",
      "Train Epoch: 10 [17920/60000 (30%)]\t1.601758\n",
      "Train Epoch: 10 [19200/60000 (32%)]\t1.526245\n",
      "Train Epoch: 10 [20480/60000 (34%)]\t1.542119\n",
      "Train Epoch: 10 [21760/60000 (36%)]\t1.567714\n",
      "Train Epoch: 10 [23040/60000 (38%)]\t1.511817\n",
      "Train Epoch: 10 [24320/60000 (41%)]\t1.463553\n",
      "Train Epoch: 10 [25600/60000 (43%)]\t1.488443\n",
      "Train Epoch: 10 [26880/60000 (45%)]\t1.554480\n",
      "Train Epoch: 10 [28160/60000 (47%)]\t1.550896\n",
      "Train Epoch: 10 [29440/60000 (49%)]\t1.502188\n",
      "Train Epoch: 10 [30720/60000 (51%)]\t1.541550\n",
      "Train Epoch: 10 [32000/60000 (53%)]\t1.512307\n",
      "Train Epoch: 10 [33280/60000 (55%)]\t1.495749\n",
      "Train Epoch: 10 [34560/60000 (58%)]\t1.560982\n",
      "Train Epoch: 10 [35840/60000 (60%)]\t1.574675\n",
      "Train Epoch: 10 [37120/60000 (62%)]\t1.539058\n",
      "Train Epoch: 10 [38400/60000 (64%)]\t1.537946\n",
      "Train Epoch: 10 [39680/60000 (66%)]\t1.478594\n",
      "Train Epoch: 10 [40960/60000 (68%)]\t1.589381\n",
      "Train Epoch: 10 [42240/60000 (70%)]\t1.484490\n",
      "Train Epoch: 10 [43520/60000 (72%)]\t1.506699\n",
      "Train Epoch: 10 [44800/60000 (75%)]\t1.499343\n",
      "Train Epoch: 10 [46080/60000 (77%)]\t1.523083\n",
      "Train Epoch: 10 [47360/60000 (79%)]\t1.497294\n",
      "Train Epoch: 10 [48640/60000 (81%)]\t1.523152\n",
      "Train Epoch: 10 [49920/60000 (83%)]\t1.500908\n",
      "Train Epoch: 10 [51200/60000 (85%)]\t1.537556\n",
      "Train Epoch: 10 [52480/60000 (87%)]\t1.521338\n",
      "Train Epoch: 10 [53760/60000 (90%)]\t1.492346\n",
      "Train Epoch: 10 [55040/60000 (92%)]\t1.466578\n",
      "Train Epoch: 10 [56320/60000 (94%)]\t1.507475\n",
      "Train Epoch: 10 [57600/60000 (96%)]\t1.586077\n",
      "Train Epoch: 10 [58880/60000 (98%)]\t1.550884\n"
     ]
    },
    {
     "name": "stderr",
     "output_type": "stream",
     "text": [
      "100%|██████████████████████████████████████████████████████████████████████████████████| 10/10 [01:56<00:00, 11.68s/it]"
     ]
    },
    {
     "name": "stdout",
     "output_type": "stream",
     "text": [
      "\n",
      "Test set: Average loss: 0.0234, Accuracy 9731/10000 (97%)\n",
      "\n"
     ]
    },
    {
     "name": "stderr",
     "output_type": "stream",
     "text": [
      "\n"
     ]
    }
   ],
   "source": [
    "for epoch in tqdm(range(1,11)):\n",
    "    train(epoch)\n",
    "    test()"
   ]
  },
  {
   "cell_type": "code",
   "execution_count": 144,
   "id": "7dca2d16",
   "metadata": {},
   "outputs": [
    {
     "data": {
      "text/plain": [
       "device(type='cuda')"
      ]
     },
     "execution_count": 144,
     "metadata": {},
     "output_type": "execute_result"
    }
   ],
   "source": [
    "device"
   ]
  },
  {
   "cell_type": "code",
   "execution_count": 145,
   "id": "8f0313bf",
   "metadata": {},
   "outputs": [
    {
     "name": "stdout",
     "output_type": "stream",
     "text": [
      "torch.Size([3, 4, 5]) \n",
      " tensor([[[-1.3546, -0.6444, -0.8354,  3.0058, -3.0112],\n",
      "         [-0.3302, -0.3510,  0.4539, -1.2193,  1.7731],\n",
      "         [ 0.8176,  0.5375,  0.9117, -1.5843, -0.0984],\n",
      "         [-0.9933,  0.0553,  0.1760,  0.1377, -0.4918]],\n",
      "\n",
      "        [[-0.0156,  0.1002,  2.0079, -1.2036, -0.3101],\n",
      "         [ 0.5766, -0.4363, -0.6329, -0.6787, -0.2054],\n",
      "         [ 0.4182, -0.1660,  1.3155,  1.0740, -0.3726],\n",
      "         [ 0.1030,  0.3462, -0.0268, -0.8327, -1.4514]],\n",
      "\n",
      "        [[-1.2844, -0.1269, -1.3423, -0.9462, -0.1918],\n",
      "         [-0.6804, -0.3643,  1.3263, -1.6483, -0.8329],\n",
      "         [-0.4506, -1.6685,  0.4311, -0.3694, -0.2759],\n",
      "         [-0.2191,  0.0126,  0.3336,  0.2443, -0.6055]]], device='cuda:0')\n"
     ]
    }
   ],
   "source": [
    "torch_tenzor = torch.randn(3,4,5, device=device)\n",
    "print(torch_tenzor.shape,'\\n', torch_tenzor)"
   ]
  },
  {
   "cell_type": "code",
   "execution_count": 146,
   "id": "adb40759",
   "metadata": {},
   "outputs": [
    {
     "data": {
      "text/plain": [
       "tensor([[-1.3546, -0.6444, -0.8354,  3.0058, -3.0112, -0.3302, -0.3510,  0.4539,\n",
       "         -1.2193,  1.7731],\n",
       "        [ 0.8176,  0.5375,  0.9117, -1.5843, -0.0984, -0.9933,  0.0553,  0.1760,\n",
       "          0.1377, -0.4918],\n",
       "        [-0.0156,  0.1002,  2.0079, -1.2036, -0.3101,  0.5766, -0.4363, -0.6329,\n",
       "         -0.6787, -0.2054],\n",
       "        [ 0.4182, -0.1660,  1.3155,  1.0740, -0.3726,  0.1030,  0.3462, -0.0268,\n",
       "         -0.8327, -1.4514],\n",
       "        [-1.2844, -0.1269, -1.3423, -0.9462, -0.1918, -0.6804, -0.3643,  1.3263,\n",
       "         -1.6483, -0.8329],\n",
       "        [-0.4506, -1.6685,  0.4311, -0.3694, -0.2759, -0.2191,  0.0126,  0.3336,\n",
       "          0.2443, -0.6055]], device='cuda:0')"
      ]
     },
     "execution_count": 146,
     "metadata": {},
     "output_type": "execute_result"
    }
   ],
   "source": [
    "torch_tenzor = torch_tenzor.view(6,10)\n",
    "torch_tenzor"
   ]
  },
  {
   "cell_type": "code",
   "execution_count": 147,
   "id": "88ae88c1",
   "metadata": {},
   "outputs": [
    {
     "data": {
      "text/plain": [
       "tensor([9, 2, 5, 6, 2, 8, 5, 9, 9, 8], device='cuda:0')"
      ]
     },
     "execution_count": 147,
     "metadata": {},
     "output_type": "execute_result"
    }
   ],
   "source": [
    "torch_inttenzor = torch.randint(10, (10,), device=device)\n",
    "torch_inttenzor"
   ]
  },
  {
   "cell_type": "code",
   "execution_count": 148,
   "id": "d512b2fe",
   "metadata": {},
   "outputs": [
    {
     "data": {
      "text/plain": [
       "tensor([[-12.1915,  -1.2888,  -4.1769,  18.0346,  -6.0225,  -2.6418,  -1.7552,\n",
       "           4.0854, -10.9737,  14.1846],\n",
       "        [  7.3585,   1.0751,   4.5587,  -9.5057,  -0.1967,  -7.9462,   0.2763,\n",
       "           1.5844,   1.2395,  -3.9340],\n",
       "        [ -0.1403,   0.2005,  10.0395,  -7.2215,  -0.6203,   4.6132,  -2.1815,\n",
       "          -5.6963,  -6.1081,  -1.6430],\n",
       "        [  3.7642,  -0.3320,   6.5774,   6.4437,  -0.7453,   0.8236,   1.7311,\n",
       "          -0.2410,  -7.4941, -11.6112],\n",
       "        [-11.5598,  -0.2538,  -6.7114,  -5.6770,  -0.3835,  -5.4433,  -1.8216,\n",
       "          11.9371, -14.8348,  -6.6634],\n",
       "        [ -4.0556,  -3.3371,   2.1553,  -2.2164,  -0.5518,  -1.7530,   0.0630,\n",
       "           3.0023,   2.1990,  -4.8438]], device='cuda:0')"
      ]
     },
     "execution_count": 148,
     "metadata": {},
     "output_type": "execute_result"
    }
   ],
   "source": [
    "result_tenzor = torch_tenzor * torch_inttenzor\n",
    "result_tenzor"
   ]
  },
  {
   "cell_type": "code",
   "execution_count": 149,
   "id": "43a43734",
   "metadata": {},
   "outputs": [
    {
     "name": "stdout",
     "output_type": "stream",
     "text": [
      "torch.Size([6, 10]) torch.Size([10, 6])\n"
     ]
    }
   ],
   "source": [
    "result_tenzor.shape\n",
    "result_tenzor_T = result_tenzor.t()\n",
    "print(result_tenzor.shape, result_tenzor_T.shape)"
   ]
  },
  {
   "cell_type": "code",
   "execution_count": 150,
   "id": "eabd919b",
   "metadata": {},
   "outputs": [
    {
     "data": {
      "text/plain": [
       "torch.Size([6, 6])"
      ]
     },
     "execution_count": 150,
     "metadata": {},
     "output_type": "execute_result"
    }
   ],
   "source": [
    "result = torch.matmul(reshaped_tensor.to(device=device), result_tenzor_T.to(device))\n",
    "result.shape"
   ]
  },
  {
   "cell_type": "code",
   "execution_count": 151,
   "id": "1c3509de",
   "metadata": {},
   "outputs": [
    {
     "name": "stdout",
     "output_type": "stream",
     "text": [
      "Градиенты:\n",
      "По x: tensor([3., 3., 3.])\n",
      "По z: tensor([1., 1., 1.])\n",
      "По t: tensor([-75., -75., -75.])\n"
     ]
    }
   ],
   "source": [
    "x = torch.ones(3, requires_grad=True)\n",
    "z = torch.ones(3, requires_grad=True)\n",
    "t = torch.ones(3, requires_grad=True)\n",
    "\n",
    "y = x**3 + z - 75*t #(1, 0.5, 2)\n",
    "y.backward(torch.ones_like(y))\n",
    "\n",
    "grad_x = x.grad\n",
    "grad_z = z.grad\n",
    "grad_t = t.grad\n",
    "\n",
    "\n",
    "print(\"Градиенты:\")\n",
    "print(\"По x:\", grad_x)\n",
    "print(\"По z:\", grad_z)\n",
    "print(\"По t:\", grad_t)"
   ]
  },
  {
   "cell_type": "code",
   "execution_count": 152,
   "id": "3e59530e",
   "metadata": {
    "scrolled": true
   },
   "outputs": [
    {
     "data": {
      "text/plain": [
       "array([[1., 1., 1., 1., 1., 1.],\n",
       "       [1., 1., 1., 1., 1., 1.],\n",
       "       [1., 1., 1., 1., 1., 1.],\n",
       "       [1., 1., 1., 1., 1., 1.],\n",
       "       [1., 1., 1., 1., 1., 1.]], dtype=float32)"
      ]
     },
     "execution_count": 152,
     "metadata": {},
     "output_type": "execute_result"
    }
   ],
   "source": [
    "onec_tenzor_to_numpy = torch.ones(5,6).numpy()\n",
    "onec_tenzor_to_numpy"
   ]
  },
  {
   "cell_type": "code",
   "execution_count": null,
   "id": "f994afe4",
   "metadata": {},
   "outputs": [],
   "source": []
  }
 ],
 "metadata": {
  "kernelspec": {
   "display_name": "myenv",
   "language": "python",
   "name": "myenv"
  },
  "language_info": {
   "codemirror_mode": {
    "name": "ipython",
    "version": 3
   },
   "file_extension": ".py",
   "mimetype": "text/x-python",
   "name": "python",
   "nbconvert_exporter": "python",
   "pygments_lexer": "ipython3",
   "version": "3.11.4"
  }
 },
 "nbformat": 4,
 "nbformat_minor": 5
}
